{
 "cells": [
  {
   "cell_type": "markdown",
   "metadata": {},
   "source": [
    "## 1. Listening Experiment: Intermediate analysis\n"
   ]
  },
  {
   "cell_type": "code",
   "execution_count": 8,
   "metadata": {},
   "outputs": [
    {
     "name": "stdout",
     "output_type": "stream",
     "text": [
      "41\n"
     ]
    }
   ],
   "source": [
    "import json\n",
    "import os\n",
    "\n",
    "def load_json(p):\n",
    "    with open('sessions/' + p, \"r\") as f:\n",
    "        return json.load(f)\n",
    "\n",
    "_sessions = list(map(load_json, os.listdir('sessions')))\n",
    "print(len(_sessions))"
   ]
  },
  {
   "cell_type": "code",
   "execution_count": 104,
   "metadata": {},
   "outputs": [
    {
     "name": "stdout",
     "output_type": "stream",
     "text": [
      "judged:  2\n",
      "judged:  11\n",
      "judged:  2\n",
      "judged:  1\n",
      "{'id': '4406b658', 'source': 'friends', 'status': 'running'}\n",
      "judged:  2\n",
      "judged:  0\n",
      "judged:  8\n",
      "judged:  8\n",
      "29\n",
      "696\n",
      "8\n"
     ]
    }
   ],
   "source": [
    "stuck = 0\n",
    "sessions = []\n",
    "for s in _sessions:\n",
    "    if(s['metadata']['status'] == 'done' or s['metadata']['status'] == 'review'):\n",
    "        sessions.append(s)\n",
    "    elif(s['index'] > 1):\n",
    "        judged = 0\n",
    "        for x in s['pairings']:\n",
    "            if not x['repeat'] and x['choice'] != 'none':\n",
    "                judged += 1\n",
    "        print('judged: ', judged)\n",
    "        if judged == 1:\n",
    "            print(s['metadata'])\n",
    "        stuck += 1\n",
    "print(len(sessions))\n",
    "print(len(sessions)*24)\n",
    "print(stuck)"
   ]
  },
  {
   "cell_type": "code",
   "execution_count": 10,
   "metadata": {},
   "outputs": [
    {
     "name": "stdout",
     "output_type": "stream",
     "text": [
      "dict_keys(['metadata', 'index', 'pairings', 'general', 'review'])\n",
      "dict_keys(['id', 'set1', 'set2', 'sample1', 'sample2', 'dQ', 'repeat', 'choice'])\n"
     ]
    }
   ],
   "source": [
    "print(sessions[3].keys())\n",
    "print(sessions[3]['pairings'][0].keys())"
   ]
  },
  {
   "cell_type": "code",
   "execution_count": 11,
   "metadata": {},
   "outputs": [
    {
     "name": "stdout",
     "output_type": "stream",
     "text": [
      "{'id': '68a3e0a4', 'source': 'friends', 'status': 'done'}\n"
     ]
    }
   ],
   "source": [
    "exp = [0,0,0,0]\n",
    "env = [0,0,0,0,0]\n",
    "for s in sessions:\n",
    "    exp[int(s['general']['experience']) - 1] += 1\n",
    "    env[int(s['general']['environment']) - 1] += 1\n",
    "    if int(s['general']['environment']) == 1:\n",
    "        print(s['metadata'])\n",
    "    "
   ]
  },
  {
   "cell_type": "code",
   "execution_count": 12,
   "metadata": {},
   "outputs": [
    {
     "name": "stdout",
     "output_type": "stream",
     "text": [
      "Experience counts:\n",
      "<1 year: 6\n",
      "1-5 year: 13\n",
      "5-10 year: 8\n",
      ">10: 2\n",
      "Environment counts:\n",
      "non-dedicated: 1\n",
      "low-end: 5\n",
      "mid-range: 21\n",
      "high-end: 1\n",
      "professional: 1\n"
     ]
    }
   ],
   "source": [
    "print(\"Experience counts:\")\n",
    "print(f\"<1 year: {exp[0]}\")\n",
    "print(f\"1-5 year: {exp[1]}\")\n",
    "print(f\"5-10 year: {exp[2]}\")\n",
    "print(f\">10: {exp[3]}\")\n",
    "\n",
    "print(\"Environment counts:\")\n",
    "print(f\"non-dedicated: {env[0]}\")\n",
    "print(f\"low-end: {env[1]}\")\n",
    "print(f\"mid-range: {env[2]}\")\n",
    "print(f\"high-end: {env[3]}\")\n",
    "print(f\"professional: {env[4]}\")"
   ]
  },
  {
   "cell_type": "code",
   "execution_count": 68,
   "metadata": {},
   "outputs": [],
   "source": [
    "dQs = []\n",
    "\n",
    "for s in sessions:\n",
    "    for x in s['pairings']:\n",
    "        dQs.append(abs(x['dQ']))"
   ]
  },
  {
   "cell_type": "code",
   "execution_count": 69,
   "metadata": {},
   "outputs": [
    {
     "data": {
      "image/png": "[encoded data removed]",
      "text/plain": [
       "<Figure size 432x288 with 1 Axes>"
      ]
     },
     "metadata": {
      "needs_background": "light"
     },
     "output_type": "display_data"
    }
   ],
   "source": [
    "import matplotlib.pyplot as plt\n",
    "import tikzplotlib\n",
    "\n",
    "plt.rcParams['hist.bins'] = 50\n",
    "plt.hist(dQs)\n",
    "plt.ylabel('# of pairs')\n",
    "plt.xlabel('$\\Delta Q$')\n",
    "tikzplotlib.save(\"dQ_distribution.tex\", axis_width='3.2in', axis_height='2.4in')\n",
    "plt.show()"
   ]
  },
  {
   "cell_type": "code",
   "execution_count": 61,
   "metadata": {},
   "outputs": [],
   "source": [
    "for s in sessions:\n",
    "    for x in s['pairings']:\n",
    "        if(x['choice'] == 'none'):\n",
    "            print(x['dQ'])"
   ]
  },
  {
   "cell_type": "code",
   "execution_count": 119,
   "metadata": {},
   "outputs": [
    {
     "name": "stdout",
     "output_type": "stream",
     "text": [
      "(60.68493150684932, 730)\n",
      "(73.33333333333333, 60)\n",
      "(55.45977011494253, 348)\n",
      "(65.80459770114942, 348)\n",
      "(62.365591397849464, 93)\n"
     ]
    }
   ],
   "source": [
    "def moving_avg(sample, n):\n",
    "    ir = np.ones(n)/n\n",
    "    return np.convolve(sample, ir)\n",
    "\n",
    "def agreement(l,h):\n",
    "    total = 0\n",
    "    agree = 0\n",
    "    for s in _sessions:\n",
    "        for x in s['pairings']:\n",
    "            if l < abs(x['dQ']) < h and x['choice'] != 'none' and not x['repeat']:\n",
    "                total += 1\n",
    "                if x['dQ'] > 0 and x['choice'] == 2:\n",
    "                    agree += 1\n",
    "                elif x['dQ'] < 0 and x['choice'] == 1:\n",
    "                    agree += 1\n",
    "    if total == 0:\n",
    "        return 0, 0\n",
    "    else:\n",
    "        return (agree/total)*100, total\n",
    "    \n",
    "def agreement_subset(exp=None,env=None):\n",
    "    total = 0\n",
    "    agree = 0\n",
    "    for s in sessions:\n",
    "        if (exp is None or int(s['general']['experience']) == exp) and (env is None or int(s['general']['environment']) == env):\n",
    "            for x in s['pairings']:\n",
    "                if x['choice'] != 'none' and not x['repeat']:\n",
    "                    total += 1\n",
    "                    if x['dQ'] > 0 and x['choice'] == 2:\n",
    "                        agree += 1\n",
    "                    elif x['dQ'] < 0 and x['choice'] == 1:\n",
    "                        agree += 1\n",
    "    if total == 0:\n",
    "        return 0, 0\n",
    "    else:\n",
    "        return (agree/total)*100, total\n",
    "    \n",
    "def agreement_data():\n",
    "    d = ['d1', 'd2', 'd3']\n",
    "    total = 0\n",
    "    agree = 0\n",
    "    for s in sessions:\n",
    "        for x in s['pairings']:\n",
    "            if (x['set1'] in d or x['set2'] in d) and x['choice'] != 'none' and not x['repeat']:\n",
    "                total += 1\n",
    "                if x['dQ'] > 0 and x['choice'] == 2:\n",
    "                    agree += 1\n",
    "                elif x['dQ'] < 0 and x['choice'] == 1:\n",
    "                    agree += 1\n",
    "    if total == 0:\n",
    "        return 0, 0\n",
    "    else:\n",
    "        return (agree/total)*100, total\n",
    "\n",
    "def agreement_ai():\n",
    "    m = ['m1', 'm2', 'm3']\n",
    "    total = 0\n",
    "    agree = 0\n",
    "    for s in sessions:\n",
    "        for x in s['pairings']:\n",
    "            if (x['set1'] in m and x['set2'] in m) and x['choice'] != 'none' and not x['repeat']:\n",
    "                total += 1\n",
    "                if x['dQ'] > 0 and x['choice'] == 2:\n",
    "                    agree += 1\n",
    "                elif x['dQ'] < 0 and x['choice'] == 1:\n",
    "                    agree += 1\n",
    "    if total == 0:\n",
    "        return 0, 0\n",
    "    else:\n",
    "        return (agree/total)*100, total\n",
    "    \n",
    "def agreement_correct_repeats():\n",
    "    total = 0\n",
    "    agree = 0\n",
    "    def correct(s, x):\n",
    "        for y in s['pairings']:\n",
    "            if x['id'] == y['id'] and not y['repeat']:\n",
    "                if x['dQ'] == y['dQ'] and x['choice'] == y['choice']:\n",
    "                    return True\n",
    "                elif x['dQ'] != y['dQ'] and x['choice'] != y['choice']:\n",
    "                    return True\n",
    "        return False\n",
    "    for s in sessions:\n",
    "        for x in s['pairings']:\n",
    "            if x['repeat'] and correct(s,x):\n",
    "                total += 1\n",
    "                if x['dQ'] > 0 and x['choice'] == 2:\n",
    "                    agree += 1\n",
    "                elif x['dQ'] < 0 and x['choice'] == 1:\n",
    "                    agree += 1\n",
    "    if total == 0:\n",
    "        return 0, 0\n",
    "    else:\n",
    "        return (agree/total)*100, total\n",
    "                \n",
    "    \n",
    "print(agreement(0,3))\n",
    "print(agreement(1,3))\n",
    "print(agreement_data())\n",
    "print(agreement_ai())\n",
    "print(agreement_correct_repeats())"
   ]
  },
  {
   "cell_type": "code",
   "execution_count": 19,
   "metadata": {},
   "outputs": [
    {
     "ename": "NameError",
     "evalue": "name 'np' is not defined",
     "output_type": "error",
     "traceback": [
      "\u001b[1;31m---------------------------------------------------------------------------\u001b[0m",
      "\u001b[1;31mNameError\u001b[0m                                 Traceback (most recent call last)",
      "\u001b[1;32m<ipython-input-19-8f0966b39de0>\u001b[0m in \u001b[0;36m<module>\u001b[1;34m\u001b[0m\n\u001b[0;32m      1\u001b[0m \u001b[0mhalves\u001b[0m \u001b[1;33m=\u001b[0m \u001b[1;33m[\u001b[0m\u001b[1;33m]\u001b[0m\u001b[1;33m\u001b[0m\u001b[1;33m\u001b[0m\u001b[0m\n\u001b[0;32m      2\u001b[0m \u001b[1;32mfor\u001b[0m \u001b[0mi\u001b[0m \u001b[1;32min\u001b[0m \u001b[0mrange\u001b[0m\u001b[1;33m(\u001b[0m\u001b[1;36m0\u001b[0m\u001b[1;33m,\u001b[0m\u001b[1;36m1000\u001b[0m\u001b[1;33m)\u001b[0m\u001b[1;33m:\u001b[0m\u001b[1;33m\u001b[0m\u001b[1;33m\u001b[0m\u001b[0m\n\u001b[1;32m----> 3\u001b[1;33m     \u001b[0mran\u001b[0m \u001b[1;33m=\u001b[0m \u001b[0mnp\u001b[0m\u001b[1;33m.\u001b[0m\u001b[0mrandom\u001b[0m\u001b[1;33m.\u001b[0m\u001b[0mrand\u001b[0m\u001b[1;33m(\u001b[0m\u001b[1;36m624\u001b[0m\u001b[1;33m)\u001b[0m\u001b[1;33m\u001b[0m\u001b[1;33m\u001b[0m\u001b[0m\n\u001b[0m\u001b[0;32m      4\u001b[0m     \u001b[0mhalfs\u001b[0m \u001b[1;33m=\u001b[0m \u001b[1;36m0\u001b[0m\u001b[1;33m\u001b[0m\u001b[1;33m\u001b[0m\u001b[0m\n\u001b[0;32m      5\u001b[0m     \u001b[1;32mfor\u001b[0m \u001b[0mx\u001b[0m \u001b[1;32min\u001b[0m \u001b[0mran\u001b[0m\u001b[1;33m:\u001b[0m\u001b[1;33m\u001b[0m\u001b[1;33m\u001b[0m\u001b[0m\n",
      "\u001b[1;31mNameError\u001b[0m: name 'np' is not defined"
     ]
    }
   ],
   "source": [
    "halves = []\n",
    "for i in range(0,1000):\n",
    "    ran = np.random.rand(624)\n",
    "    halfs = 0\n",
    "    for x in ran:\n",
    "        if x > 0.5:\n",
    "            halfs += 1\n",
    "    halves.append(halfs / 624)\n",
    "print(np.max(halves))"
   ]
  },
  {
   "cell_type": "code",
   "execution_count": 38,
   "metadata": {},
   "outputs": [],
   "source": [
    "import numpy as np\n",
    "\n",
    "agr = []\n",
    "tot = []\n",
    "\n",
    "for x in np.arange(0,1.6,0.01):\n",
    "    l = x - 0.1\n",
    "    h = x + 0.1\n",
    "    a, t = agreement(l,h)\n",
    "    agr.append(a)\n",
    "    tot.append(t/3)"
   ]
  },
  {
   "cell_type": "code",
   "execution_count": 39,
   "metadata": {},
   "outputs": [
    {
     "data": {
      "image/png": "[encoded data removed]",
      "text/plain": [
       "<Figure size 432x288 with 1 Axes>"
      ]
     },
     "metadata": {
      "needs_background": "light"
     },
     "output_type": "display_data"
    }
   ],
   "source": [
    "# plt.bar(np.arange(0,1.6,0.01), agr, align='edge', width=0.01)\n",
    "plt.plot(np.arange(0,1.6,0.01), agr)\n",
    "plt.bar(np.arange(0,1.6,0.01), tot, align='edge', width=0.01, color=['grey'], alpha=0.5)\n",
    "# plt.plot(np.arange(0,1.6,0.01), moving_avg(agr,11)[5:165], 'g')\n",
    "plt.hlines(50, 0, 1.6, linestyles='dashed', color=['red'])\n",
    "plt.ylabel('Agreement (%)')\n",
    "plt.xlabel('$\\Delta Q$')\n",
    "plt.show()"
   ]
  },
  {
   "cell_type": "code",
   "execution_count": 82,
   "metadata": {},
   "outputs": [
    {
     "data": {
      "image/png": "[encoded data removed]",
      "text/plain": [
       "<Figure size 432x288 with 1 Axes>"
      ]
     },
     "metadata": {
      "needs_background": "light"
     },
     "output_type": "display_data"
    }
   ],
   "source": [
    "import tikzplotlib\n",
    "\n",
    "ag2 = []\n",
    "\n",
    "for x in np.arange(0,1.5,0.1):\n",
    "    l = x\n",
    "    h = x + 0.1\n",
    "    a, _ = agreement(l,h)\n",
    "    ag2.append(a)\n",
    "    \n",
    "plt.bar(np.arange(0,1.5,0.1), ag2, align='edge', width=0.09)\n",
    "plt.hlines(50, 0, 1.5, linestyles='dashed', color=['red'])\n",
    "plt.ylabel('Agreement (%)')\n",
    "plt.xlabel('$\\Delta Q$ range')\n",
    "# tikzplotlib.clean_figure()\n",
    "# tikzplotlib.save(\"dQ_bars.tex\", axis_width='3.2in', axis_height='2.4in')\n",
    "plt.show()"
   ]
  },
  {
   "cell_type": "code",
   "execution_count": 22,
   "metadata": {},
   "outputs": [],
   "source": [
    "with open('C://xampp/htdocs/kicks/test.json') as f:\n",
    "    test = json.load(f)"
   ]
  },
  {
   "cell_type": "code",
   "execution_count": 23,
   "metadata": {},
   "outputs": [],
   "source": [
    "dQs = []\n",
    "for s in test:\n",
    "    for x in s:\n",
    "        dQs.append(abs(x['dQ']))"
   ]
  },
  {
   "cell_type": "code",
   "execution_count": 24,
   "metadata": {},
   "outputs": [
    {
     "data": {
      "image/png": "[encoded data removed]",
      "text/plain": [
       "<Figure size 432x288 with 1 Axes>"
      ]
     },
     "metadata": {
      "needs_background": "light"
     },
     "output_type": "display_data"
    }
   ],
   "source": [
    "plt.hist(dQs)\n",
    "plt.show()"
   ]
  },
  {
   "cell_type": "code",
   "execution_count": 33,
   "metadata": {},
   "outputs": [
    {
     "data": {
      "text/plain": [
       "100"
      ]
     },
     "execution_count": 33,
     "metadata": {},
     "output_type": "execute_result"
    }
   ],
   "source": [
    "len(test)"
   ]
  },
  {
   "cell_type": "code",
   "execution_count": 34,
   "metadata": {},
   "outputs": [],
   "source": [
    "import json\n",
    "\n",
    "with open(\"quals.json\", \"r\") as f:\n",
    "    quals = json.load(f)"
   ]
  },
  {
   "cell_type": "code",
   "execution_count": 35,
   "metadata": {},
   "outputs": [],
   "source": [
    "d1 = quals[\"d1\"] \n",
    "d2 = quals[\"d2\"]\n",
    "d3 = quals[\"d3\"]\n",
    "m1 = quals[\"m1\"]\n",
    "m2 = quals[\"m2\"]\n",
    "m3 = quals[\"m3\"]"
   ]
  },
  {
   "cell_type": "code",
   "execution_count": 36,
   "metadata": {},
   "outputs": [],
   "source": [
    "import numpy as np"
   ]
  },
  {
   "cell_type": "code",
   "execution_count": 52,
   "metadata": {},
   "outputs": [
    {
     "name": "stdout",
     "output_type": "stream",
     "text": [
      "0.6904362800260168\n",
      "1.07344682702133\n",
      "0.45407215906586873\n",
      "[0.5867632219675443, 0.6278479727042271, 0.6119326627582143, 0.9800444902225323, 0.5849180637984766, 0.649986360784373, 0.5124865719752824, 0.5751371867088924, 0.739099619011646, 0.5388469920603889, 0.5741747811902453, 0.6135738710047247, 0.8301379000694633, 0.7705109499149475, 0.5433363281953784, 0.5676485894631458, 0.7537347083444692, 0.7904763322824551, 0.7041652864505805, 0.5883325258893856, 0.5745065095495967, 0.8328961880273127, 0.6851110012541088, 0.6977580037490807, 0.8866527665383204, 0.6678511467848325, 0.6931496215351446, 0.7033498320009175, 0.9869510807940608, 0.7618345409528924, 0.6831321160788456, 0.7019401531453806, 0.9595893984858456, 0.5723569033273392, 1.07344682702133, 0.8354930587615864, 0.7472559141266832, 0.7391175516864141, 0.7561902658353241, 0.5721807674158312, 0.619731284088641, 0.45407215906586873, 0.4983078953966426, 0.5660738920054076, 0.6575293087469732]\n"
     ]
    }
   ],
   "source": [
    "print(np.mean(d3))\n",
    "print(np.max(d3))\n",
    "print(np.min(d3))\n",
    "print(d3)"
   ]
  },
  {
   "cell_type": "code",
   "execution_count": 112,
   "metadata": {},
   "outputs": [
    {
     "name": "stdout",
     "output_type": "stream",
     "text": [
      "by,against\td1\td2\td3\tm1\tm2\tm3\n",
      "d1 & - & 56.67 & 77.05 & 84.38 & 67.74 & 86.67 &  \\\\\n",
      "d2 & 43.33 & - & 74.19 & - & - & - &  \\\\\n",
      "d3 & 22.95 & 25.81 & - & - & - & - &  \\\\\n",
      "m1 & 15.62 & - & - & - & 31.45 & 74.79 &  \\\\\n",
      "m2 & 32.26 & - & - & 68.55 & - & 77.5 &  \\\\\n",
      "m3 & 13.33 & - & - & 25.21 & 22.5 & - &  \\\\\n"
     ]
    }
   ],
   "source": [
    "sets = {\n",
    "    'd1': 0,\n",
    "    'd2': 1,\n",
    "    'd3': 2,\n",
    "    'm1': 3,\n",
    "    'm2': 4,\n",
    "    'm3': 5\n",
    "}\n",
    "\n",
    "wins = np.zeros((6,6))\n",
    "totals = np.zeros((6,6))\n",
    "\n",
    "for s in _sessions:\n",
    "    for x in s['pairings']:\n",
    "        if x['choice'] != 'none' and not x['repeat']:\n",
    "            totals[sets[x['set1']]][sets[x['set2']]] += 1\n",
    "            totals[sets[x['set2']]][sets[x['set1']]] += 1\n",
    "            if x['choice'] == 1:\n",
    "                wins[sets[x['set1']]][sets[x['set2']]] += 1\n",
    "            elif x['choice'] == 2:\n",
    "                wins[sets[x['set2']]][sets[x['set1']]] += 1\n",
    "                \n",
    "for i in range(0,6):\n",
    "    for j in range(0,6):\n",
    "        if totals[i][j] != 0:\n",
    "            wins[i][j] = (wins[i][j] / totals[i][j]) * 100\n",
    "        if i == j:\n",
    "            wins[i][j] = 0\n",
    "            \n",
    "# print(\"by,against\\td1\\td2\\td3\\tm1\\tm2\\tm3\")\n",
    "# for i in range(0,6):\n",
    "#     ln = f\"{list(sets.keys())[i]}\\t\\t\"\n",
    "#     for j in range(0,6):\n",
    "#         if wins[i][j] != 0:\n",
    "#             ln += f\"{round(wins[i][j],2)}\\t\"\n",
    "#         else:\n",
    "#             ln += \"-\\t\"\n",
    "#     print(ln)\n",
    "\n",
    "print(\"by,against\\td1\\td2\\td3\\tm1\\tm2\\tm3\")\n",
    "for i in range(0,6):\n",
    "    ln = f\"{list(sets.keys())[i]} & \"\n",
    "    for j in range(0,6):\n",
    "        if wins[i][j] != 0:\n",
    "            ln += f\"{round(wins[i][j],2)} & \"\n",
    "        else:\n",
    "            ln += \"- & \"\n",
    "    ln += ' \\\\\\\\'\n",
    "    print(ln)"
   ]
  },
  {
   "cell_type": "code",
   "execution_count": 89,
   "metadata": {},
   "outputs": [
    {
     "name": "stdout",
     "output_type": "stream",
     "text": [
      "by,against\td1\td2\td3\tm1\tm2\tm3\n",
      "d1\t\t-\t56.67\t77.05\t84.38\t67.74\t86.67\t\n",
      "d2\t\t43.33\t-\t74.19\t-\t-\t-\t\n",
      "d3\t\t22.95\t25.81\t-\t-\t-\t-\t\n",
      "m1\t\t15.62\t-\t-\t-\t31.45\t74.79\t\n",
      "m2\t\t32.26\t-\t-\t68.55\t-\t77.5\t\n",
      "m3\t\t13.33\t-\t-\t25.21\t22.5\t-\t\n"
     ]
    }
   ],
   "source": [
    "sets = {\n",
    "    'd1': 0,\n",
    "    'd2': 1,\n",
    "    'd3': 2,\n",
    "    'm1': 3,\n",
    "    'm2': 4,\n",
    "    'm3': 5\n",
    "}\n",
    "\n",
    "wins = np.zeros((6,6))\n",
    "totals = np.zeros((6,6))\n",
    "\n",
    "for s in _sessions:\n",
    "    for x in s['pairings']:\n",
    "        if x['choice'] != 'none' and not x['repeat']:\n",
    "            totals[sets[x['set1']]][sets[x['set2']]] += 1\n",
    "            totals[sets[x['set2']]][sets[x['set1']]] += 1\n",
    "            if x['choice'] == 1:\n",
    "                wins[sets[x['set1']]][sets[x['set2']]] += 1\n",
    "            elif x['choice'] == 2:\n",
    "                wins[sets[x['set2']]][sets[x['set1']]] += 1\n",
    "                \n",
    "for i in range(0,6):\n",
    "    for j in range(0,6):\n",
    "        if totals[i][j] != 0:\n",
    "            wins[i][j] = (wins[i][j] / totals[i][j]) * 100\n",
    "        if i == j:\n",
    "            wins[i][j] = 0\n",
    "            \n",
    "print(\"by,against\\td1\\td2\\td3\\tm1\\tm2\\tm3\")\n",
    "for i in range(0,6):\n",
    "    ln = f\"{list(sets.keys())[i]}\\t\\t\"\n",
    "    for j in range(0,6):\n",
    "        if wins[i][j] != 0:\n",
    "            ln += f\"{round(wins[i][j],2)}\\t\"\n",
    "        else:\n",
    "            ln += \"-\\t\"\n",
    "    print(ln)"
   ]
  },
  {
   "cell_type": "code",
   "execution_count": 291,
   "metadata": {},
   "outputs": [
    {
     "name": "stdout",
     "output_type": "stream",
     "text": [
      "billegal40a487a8\n",
      "Transient of the kick and aliasing artifacts in the tail end.\n",
      "\n",
      "billegal9a73271d\n",
      "Overall timbre/punchiness of the kick drum, amount of low/high end\n",
      "\n",
      "billegald54b1178\n",
      "I had Vengeance-style kicks in mind, and a lot of the kicks i would guess to be generated had either some weird comb-filter-type sound to them or some super unconventional tails\n",
      "\n",
      "friends06f2270e\n",
      "\n",
      "\n",
      "friends68a3e0a4\n",
      "\n",
      "\n",
      "friendsb65c76d0\n",
      "Some samples were really distorted a lot, which often make me pick the other option. Other samples had a bit too much high-end clicking noise. Some samples also ended too abruptly.\n",
      "\n",
      "friendsb8848fef\n",
      "I listen mostly to deep house and techno (not the harder variant), so I have a proference for more subtle kicks\n",
      "\n",
      "happymouse87ed55f4\n",
      "lots of clicking noises are a nono\n",
      "\n",
      "happymousea05cfac6\n",
      "Sample quality - specifically strange noises in the attack of the sample.\n",
      "\n",
      "mussar4835aca7\n",
      "1. I was listening for the volume and length of the transient, particularly to see if it felt too long or in some cases, like downsampling. 2. I was listening for the amount of distortion on the lower mids and bass frequencies, as some were more hardstyle-y and had a nice tone but others sounded squared-off and flabby. 3. I was checking to see the relative relationships between the sub bass and the rest of the kick's frequency range.\n",
      "\n",
      "mussar6a193a76\n",
      "transient and body of sample. pitch\n",
      "\n",
      "mussarf43ecae4\n",
      "For me, one of the important aspects I thought about was kick drum preference. While some of the AI generated results didn't sound quite like kick drums, I thought some of the results were really cool. Being able to have a sound that's AI generated in general is already super sick to me, so I think a lot of these samples I listened to could be put into a pack right now! Great experiment, though. \n",
      "\n",
      "mussarf76b6c9e\n",
      "A good thumpy bass sound. Some where to short and clicky to make a decent kick.\n",
      "\n",
      "shroom74194cb8\n",
      "I chose what samples I would use in my own productions. Not much more that that as I don't know much about drum synthesis. I mostly just chose samples based on how punchy the kick sounds to me.\n",
      "\n",
      "synths43068986\n",
      "Noise and decay.\n",
      "\n",
      "I personally didn't prefer the ones with lots of noise and much longer decay trails. I prefer short and punchy.\n",
      "\n",
      "synthsa764f8d6\n",
      "I generally focused on the presence of higher frequencies and what sounded like aliasing.\n",
      "\n",
      "tempis1398fb19\n",
      "I focus mainly on the bass sound itself what that content specifically below 80hz is doing also the length of the sample and how \"tight\" it is and which one I'd personally use \n",
      "\n",
      "tempis4c5eafc9\n",
      "the cleanliness of the kicks, the transient, the artifacts from AI / processing, the tail of the kick\n",
      "\n",
      "tempiscebfe621\n",
      "I approached my answers by comparing the frequency responses and duration, but when those weren't enough I considered which sample I thought I would be more likely to find in a commercial pack (e.g. Cymatics). I looked for clear transients in the 80-120 Hz area and less high-end information, but if it was too long I often considered it too similar to an 808.\n",
      "\n",
      "tempisecee6f6e\n",
      "\n",
      "\n",
      "tempisffc22f83\n",
      "I went for kicks without higher tones ringing out and I'm also more biased towards clicky and tight kicks. big noisy transients on kicks make me think of 2010 era vengeance kicks, which I suppose are accurate to sounding like a sample pack, but maybe not the most modern one. I also tend to choose kicks which are less distorted.  \n",
      "\n",
      "theaudioprogrammer444e04a8\n",
      "clear sub > rumbling sub\n",
      "reasonable punch or soft transients > weird harmonics\n",
      "normal tail > weird thing that gets back after a while\n",
      "when it fitted to a specific genre, like psytrance often\n",
      "\n",
      "theaudioprogrammer979cda0b\n",
      "How clean they sounded - some of them had lower quality and audible pops and noises at the tail end, some of them sounded unusable to my ears, where as some were instantly 'yes'. There were plenty that were usable, and I went with the ones that were going to be hitting right and didn't have any artefacts or noises. \n",
      "\n",
      "theaudioprogrammere380767b\n",
      "\n",
      "\n",
      "theaudioprogrammeredad6d12\n",
      "\n",
      "\n",
      "unknown94b3b331\n",
      "I was listening for something that didn't sound too artificial and had a solid \"thump\" to it and some interesting characteristics.\n",
      "\n"
     ]
    }
   ],
   "source": [
    "for s in sessions:\n",
    "    if 'review' in s.keys():\n",
    "        print(s['metadata']['source'] + s['metadata']['id'])\n",
    "        print(s['review']['focus'] + '\\n')"
   ]
  },
  {
   "cell_type": "code",
   "execution_count": 293,
   "metadata": {},
   "outputs": [
    {
     "name": "stdout",
     "output_type": "stream",
     "text": [
      "billegal40a487a8 100.0\n",
      "\n",
      "\n",
      "billegal9a73271d 100.0\n",
      "I didn't recognize this happening. \n",
      "\n",
      "billegald54b1178 100.0\n",
      "I noticed a lot of kick drums being used multiple times, but I did not notice the same match-ups appearing\n",
      "\n",
      "friends06f2270e 100.0\n",
      "\n",
      "\n",
      "friends68a3e0a4 100.0\n",
      "I did notice! I don't think second occurrances guided me in making the new choice though.\n",
      "\n",
      "friendsb65c76d0 100.0\n",
      "I did recognize that I heard some samples multiple times, but I did not notice that they were the exact same pairs.\n",
      "\n",
      "friendsb8848fef 100.0\n",
      "I did notice a few pairs were repeated.\n",
      "\n",
      "happymouse87ed55f4 50.0\n",
      "maybe 2 or 3\n",
      "\n",
      "happymousea05cfac6 100.0\n",
      "There were quite a few close calls, but mostly on pairs where I wasn't particularly fond of either option presented.\n",
      "\n",
      "mussar4835aca7 100.0\n",
      "yeah it was pretty obvious when i was given the same sounds. \n",
      "\n",
      "mussar6a193a76 100.0\n",
      "Yes, noticed the repetition. There were also some pairs where both were good kicks, or both were interesting samples, or one was more of a kick and the other could be used well as something else ..or both were bad.\n",
      "\n",
      "mussarf43ecae4 100.0\n",
      "\n",
      "\n",
      "mussarf76b6c9e 100.0\n",
      "I noticed some, yes.\n",
      "There were some close calls, with close to equally good sounds of different types.\n",
      "\n",
      "shroom74194cb8 50.0\n",
      "I didn't notice, wow\n",
      "\n",
      "synths43068986 100.0\n",
      "Yes I thought this was intentional as well.\n",
      "\n",
      "synthsa764f8d6 100.0\n",
      "I don't believe there were many close calls\n",
      "\n",
      "tempis1398fb19 50.0\n",
      "yes there was\n",
      "\n",
      "tempis4c5eafc9 50.0\n",
      "i did notice a lot of kicks sounding similar, though the amount of similar vs the same kicks made it difficult to recognize that they were repeated\n",
      "\n",
      "tempiscebfe621 100.0\n",
      "I thought I recognized some duplicates so I'm happy to see my choices were consistent. However, I there were a few close calls for me (maybe 3-5 of the pairs).\n",
      "\n",
      "tempisecee6f6e 100.0\n",
      "\n",
      "\n",
      "tempisffc22f83 100.0\n",
      "I did notice this happen but I chose really fast without thinking too much. I don't think that it was particularly close to me not picking the same ones because I decided so quickly. \n",
      "\n",
      "theaudioprogrammer444e04a8 50.0\n",
      "yeah i noticed that. but sometimes i changed my mind. for example there was kick once that sounded really weird, but the other choice was boring af, so i decided that it would be fun to give credit to that weird kick at least. but later when the weird kick appeared again i thought to myself \"well, that's totally not a human kick, so let's vote against it from now on\"\n",
      "\n",
      "theaudioprogrammer979cda0b 50.0\n",
      "I think I just ended up going with what I most liked in terms of every pair, and I did think some were so similar to previous ones. So I shrugged and chose what I thought I'd find most usable, even if I chose differently previously\n",
      "\n",
      "theaudioprogrammere380767b 100.0\n",
      "\n",
      "\n",
      "theaudioprogrammeredad6d12 100.0\n",
      "\n",
      "\n",
      "unknown94b3b331 100.0\n",
      "I did notice that there were a few repeated pairs and maybe some of the variation in picking a different sound in the pair was based upon pairs heard prior to the repeated pair.\n",
      "\n"
     ]
    }
   ],
   "source": [
    "for s in sessions:\n",
    "    if 'review' in s.keys():\n",
    "        for x in s['pairings']:\n",
    "            if x['repeat']:\n",
    "                total = 0\n",
    "                same = 0\n",
    "                for y in s['pairings']:\n",
    "                    if x['id'] == y['id']:\n",
    "                        total += 1\n",
    "                        if x['dQ'] == y['dQ'] and x['choice'] == y['choice']:\n",
    "                            same += 1\n",
    "                        elif x['dQ'] != y['dQ'] and x['choice'] != y['choice']:\n",
    "                            same += 1\n",
    "                acc = (same/total)*100\n",
    "        print(s['metadata']['source'] + s['metadata']['id'], acc)\n",
    "        print(s['review']['repeats'] + '\\n')"
   ]
  },
  {
   "cell_type": "code",
   "execution_count": null,
   "metadata": {},
   "outputs": [],
   "source": []
  }
 ],
 "metadata": {
  "kernelspec": {
   "display_name": "Python 3",
   "language": "python",
   "name": "python3"
  },
  "language_info": {
   "codemirror_mode": {
    "name": "ipython",
    "version": 3
   },
   "file_extension": ".py",
   "mimetype": "text/x-python",
   "name": "python",
   "nbconvert_exporter": "python",
   "pygments_lexer": "ipython3",
   "version": "3.8.5"
  }
 },
 "nbformat": 4,
 "nbformat_minor": 4
}
